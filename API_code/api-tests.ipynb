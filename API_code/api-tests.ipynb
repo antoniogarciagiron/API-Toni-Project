{
 "cells": [
  {
   "cell_type": "markdown",
   "metadata": {},
   "source": [
    "# Testing the Star Wars API"
   ]
  },
  {
   "cell_type": "markdown",
   "metadata": {},
   "source": [
    "This Jupyter notebook was made to test the API, first we import the required packages. Before we start, run the api.py file with Python."
   ]
  },
  {
   "cell_type": "code",
   "execution_count": 71,
   "metadata": {},
   "outputs": [],
   "source": [
    "from helpers.mongoConnection import insert, read\n",
    "import requests"
   ]
  },
  {
   "cell_type": "markdown",
   "metadata": {},
   "source": [
    "To make easier the testing in somebody else's computer, I've exported the Database with the sentences into a json file, the following code can be used to import all the sentences into a new Mongo database. It can be imported directly from Mongo DB as well."
   ]
  },
  {
   "cell_type": "code",
   "execution_count": 140,
   "metadata": {},
   "outputs": [
    {
     "data": {
      "text/plain": [
       "'\\nwith open(\\'quotes.json\\') as f:\\n    file_data = json.load(f)\\nfor pack in file_data:\\n    res = requests.get(\"http://127.0.0.1:5000/quotes/new\", params=pack)\\n\\n'"
      ]
     },
     "execution_count": 140,
     "metadata": {},
     "output_type": "execute_result"
    }
   ],
   "source": [
    "#To import the quotes into a database in MongoDB\n",
    "\"\"\"\n",
    "with open('quotes.json') as f:\n",
    "    file_data = json.load(f)\n",
    "for pack in file_data:\n",
    "    res = requests.get(\"http://127.0.0.1:5000/quotes/new\", params=pack)\n",
    "\n",
    "\"\"\""
   ]
  },
  {
   "cell_type": "markdown",
   "metadata": {},
   "source": [
    "## Hello World"
   ]
  },
  {
   "cell_type": "markdown",
   "metadata": {},
   "source": [
    "The first thing to test is the connection with the API, for this aim, the endpoint /salute was created."
   ]
  },
  {
   "cell_type": "code",
   "execution_count": 52,
   "metadata": {},
   "outputs": [
    {
     "data": {
      "text/plain": [
       "'May the Force be with you'"
      ]
     },
     "execution_count": 52,
     "metadata": {},
     "output_type": "execute_result"
    }
   ],
   "source": [
    "res = requests.get(\"http://127.0.0.1:5000/salute\")\n",
    "res.text"
   ]
  },
  {
   "cell_type": "markdown",
   "metadata": {},
   "source": [
    "## Adding quotes"
   ]
  },
  {
   "cell_type": "markdown",
   "metadata": {},
   "source": [
    "**2)** Once we know that the API is working, the first thing to do is to check if we can add a new sentence with the following code:"
   ]
  },
  {
   "cell_type": "code",
   "execution_count": 124,
   "metadata": {},
   "outputs": [
    {
     "data": {
      "text/plain": [
       "<Response [200]>"
      ]
     },
     "execution_count": 124,
     "metadata": {},
     "output_type": "execute_result"
    }
   ],
   "source": [
    "sentence = {\n",
    "    \"name\":\"Boba Fett\",\n",
    "    \"army\":\"Bounty hunters\", \n",
    "    \"movie\":\"The Empire Strikes Back\",\n",
    "    \"quote\":\"He's no good to me dead\"\n",
    "}\n",
    "res = requests.get(\"http://127.0.0.1:5000/quotes/new\", params=sentence)\n",
    "res"
   ]
  },
  {
   "cell_type": "code",
   "execution_count": 93,
   "metadata": {},
   "outputs": [
    {
     "data": {
      "text/plain": [
       "{'_id': {'$oid': '603101c402da0528debb3bcd'}}"
      ]
     },
     "execution_count": 93,
     "metadata": {},
     "output_type": "execute_result"
    }
   ],
   "source": [
    "res.json()"
   ]
  },
  {
   "cell_type": "code",
   "execution_count": 55,
   "metadata": {},
   "outputs": [
    {
     "data": {
      "text/plain": [
       "'http://127.0.0.1:5000/quotes/new?name=Darth+Vader&army=Empire&movie=Return+of+the+Loonies&quote=Obi-Wan+has+taught+you+well'"
      ]
     },
     "execution_count": 55,
     "metadata": {},
     "output_type": "execute_result"
    }
   ],
   "source": [
    "res.url"
   ]
  },
  {
   "cell_type": "markdown",
   "metadata": {},
   "source": [
    "It worked and the sentence was added to the database."
   ]
  },
  {
   "cell_type": "markdown",
   "metadata": {},
   "source": [
    "To keep checking the function, if we try to add a quote which is already in the database:"
   ]
  },
  {
   "cell_type": "code",
   "execution_count": 142,
   "metadata": {},
   "outputs": [
    {
     "data": {
      "text/plain": [
       "{'Error': 'The sentence is already in the list'}"
      ]
     },
     "execution_count": 142,
     "metadata": {},
     "output_type": "execute_result"
    }
   ],
   "source": [
    "sentence = {\n",
    "    \"name\":\"Boba Fett\",\n",
    "    \"army\":\"Bounty hunters\", \n",
    "    \"movie\":\"The Empire Strikes Back\",\n",
    "    \"quote\":\"He's no good to me dead\"\n",
    "}\n",
    "res = requests.get(\"http://127.0.0.1:5000/quotes/new\", params=sentence)\n",
    "res.json()"
   ]
  },
  {
   "cell_type": "markdown",
   "metadata": {},
   "source": [
    "The API gives an error and informs that the quote already exists."
   ]
  },
  {
   "cell_type": "markdown",
   "metadata": {},
   "source": [
    "Furthermore, if we try to add a wrong army or a movie not included in the API:"
   ]
  },
  {
   "cell_type": "code",
   "execution_count": 144,
   "metadata": {},
   "outputs": [
    {
     "data": {
      "text/plain": [
       "{'Error': 'You have to chose between Rebellion, Empire and Bounty hunters'}"
      ]
     },
     "execution_count": 144,
     "metadata": {},
     "output_type": "execute_result"
    }
   ],
   "source": [
    "sentence = {\n",
    "    \"name\":\"Boba Fett\",\n",
    "    \"army\":\"AAAAAAAAAAAA\", \n",
    "    \"movie\":\"The Empire Strikes Back\",\n",
    "    \"quote\":\"He's no good to me dead\"\n",
    "}\n",
    "res = requests.get(\"http://127.0.0.1:5000/quotes/new\", params=sentence)\n",
    "res.json()"
   ]
  },
  {
   "cell_type": "code",
   "execution_count": 145,
   "metadata": {},
   "outputs": [
    {
     "data": {
      "text/plain": [
       "{'Error': 'Not a Star Wars Movie'}"
      ]
     },
     "execution_count": 145,
     "metadata": {},
     "output_type": "execute_result"
    }
   ],
   "source": [
    "sentence = {\n",
    "    \"name\":\"Boba Fett\",\n",
    "    \"army\":\"Bounty hunters\", \n",
    "    \"movie\":\"The Lord of the Rings\",\n",
    "    \"quote\":\"He's no good to me dead\"\n",
    "}\n",
    "res = requests.get(\"http://127.0.0.1:5000/quotes/new\", params=sentence)\n",
    "res.json()"
   ]
  },
  {
   "cell_type": "markdown",
   "metadata": {},
   "source": [
    "In both cases there is an error informing."
   ]
  },
  {
   "cell_type": "markdown",
   "metadata": {},
   "source": [
    "## Calling functions"
   ]
  },
  {
   "cell_type": "markdown",
   "metadata": {},
   "source": [
    "First, we are calling all the quotes."
   ]
  },
  {
   "cell_type": "code",
   "execution_count": 146,
   "metadata": {},
   "outputs": [
    {
     "data": {
      "text/plain": [
       "<Response [200]>"
      ]
     },
     "execution_count": 146,
     "metadata": {},
     "output_type": "execute_result"
    }
   ],
   "source": [
    "res = requests.get(\"http://127.0.0.1:5000/quotes/all\")\n",
    "res"
   ]
  },
  {
   "cell_type": "code",
   "execution_count": 149,
   "metadata": {},
   "outputs": [
    {
     "data": {
      "text/plain": [
       "[{'name': 'Princess Leia',\n",
       "  'quote': \"Aren't you a little short for a stormtrooper?\"},\n",
       " {'name': 'Obi-Wan Kenobi',\n",
       "  'quote': \"These aren't the droids you're looking for\"},\n",
       " {'name': 'Obi-Wan Kenobi',\n",
       "  'quote': \"They'll soon be back, and in greater numbers\"},\n",
       " {'name': 'Luke Skywalker', 'quote': 'Your Thoughts betray you father'},\n",
       " {'name': 'Darth Vader', 'quote': 'Obi-Wan has taught you well'}]"
      ]
     },
     "execution_count": 149,
     "metadata": {},
     "output_type": "execute_result"
    }
   ],
   "source": [
    "data = res.json()\n",
    "data[:5]"
   ]
  },
  {
   "cell_type": "markdown",
   "metadata": {},
   "source": [
    "It gives all the quotes stored in the DB and who said it."
   ]
  },
  {
   "cell_type": "markdown",
   "metadata": {},
   "source": [
    "Now we are calling the quotes by army, for example \"Rebellion\"."
   ]
  },
  {
   "cell_type": "code",
   "execution_count": 153,
   "metadata": {},
   "outputs": [
    {
     "data": {
      "text/plain": [
       "[{'name': 'Princess Leia',\n",
       "  'quote': \"Aren't you a little short for a stormtrooper?\"},\n",
       " {'name': 'Obi-Wan Kenobi',\n",
       "  'quote': \"These aren't the droids you're looking for\"},\n",
       " {'name': 'Obi-Wan Kenobi',\n",
       "  'quote': \"They'll soon be back, and in greater numbers\"},\n",
       " {'name': 'Luke Skywalker', 'quote': 'Your Thoughts betray you father'},\n",
       " {'name': 'Admiral Ackbar', 'quote': \"It's a trap!!!\"}]"
      ]
     },
     "execution_count": 153,
     "metadata": {},
     "output_type": "execute_result"
    }
   ],
   "source": [
    "res = requests.get(\"http://127.0.0.1:5000/quotesbyarmy/Rebellion\")\n",
    "res.json()[:5]"
   ]
  },
  {
   "cell_type": "markdown",
   "metadata": {},
   "source": [
    "To test what happens if we introduce an army not included in the movies, for example \"Orks\"."
   ]
  },
  {
   "cell_type": "code",
   "execution_count": 158,
   "metadata": {},
   "outputs": [
    {
     "data": {
      "text/plain": [
       "{'Error': 'You have to chose between Rebellion, Empire and Bounty hunters'}"
      ]
     },
     "execution_count": 158,
     "metadata": {},
     "output_type": "execute_result"
    }
   ],
   "source": [
    "res = requests.get(\"http://127.0.0.1:5000/quotesbyarmy/Orks\")\n",
    "res.json()"
   ]
  },
  {
   "cell_type": "markdown",
   "metadata": {},
   "source": [
    "It gives an error and tells you the 3 possible armies."
   ]
  },
  {
   "cell_type": "markdown",
   "metadata": {},
   "source": [
    "Now we call the quotes by the movie characters, for example with Princess Leia."
   ]
  },
  {
   "cell_type": "code",
   "execution_count": 155,
   "metadata": {},
   "outputs": [
    {
     "data": {
      "text/plain": [
       "[{'name': 'Princess Leia',\n",
       "  'quote': \"Aren't you a little short for a stormtrooper?\"},\n",
       " {'name': 'Princess Leia',\n",
       "  'quote': 'We have Powerful friends, you will regret this'},\n",
       " {'name': 'Princess Leia',\n",
       "  'quote': \"Help me, Obi-Wan Kenobi. You're my only hope\"},\n",
       " {'name': 'Princess Leia',\n",
       "  'quote': 'Somebody get this walking carpet out of my way!'},\n",
       " {'name': 'Princess Leia',\n",
       "  'quote': 'Why you stuck up, half witted, scruffy looking nerf herder!'}]"
      ]
     },
     "execution_count": 155,
     "metadata": {},
     "output_type": "execute_result"
    }
   ],
   "source": [
    "res = requests.get(\"http://127.0.0.1:5000/quotesbycharacter/Princess Leia\")\n",
    "res.json()[:5]"
   ]
  },
  {
   "cell_type": "markdown",
   "metadata": {},
   "source": [
    "To check what happens if we introduce a character not included in the movies we are going to look for Homer Simpson."
   ]
  },
  {
   "cell_type": "code",
   "execution_count": 159,
   "metadata": {},
   "outputs": [
    {
     "data": {
      "text/plain": [
       "{'Error': 'The character is still not in the Database'}"
      ]
     },
     "execution_count": 159,
     "metadata": {},
     "output_type": "execute_result"
    }
   ],
   "source": [
    "res = requests.get(\"http://127.0.0.1:5000/quotesbycharacter/Homer Simpson\")\n",
    "res.json()"
   ]
  },
  {
   "cell_type": "markdown",
   "metadata": {},
   "source": [
    "The last callable function is to filter by movies. We are going to test with \"The Empire Strikes Back\" (The best movie ever)."
   ]
  },
  {
   "cell_type": "code",
   "execution_count": 162,
   "metadata": {},
   "outputs": [
    {
     "data": {
      "text/plain": [
       "[{'name': 'Darth Vader',\n",
       "  'quote': \" You are beaten! It is useless to resist. Don't let yourself be destroyed as Obi-Wan did\"},\n",
       " {'name': 'Darth Vader', 'quote': 'Impressive... most impressive'},\n",
       " {'name': 'Darth Vader', 'quote': 'No, I am your father'},\n",
       " {'name': 'Darth Vader',\n",
       "  'quote': \"I am altering the deal. Pray I don't alter it any further\"},\n",
       " {'name': 'Darth Vader',\n",
       "  'quote': 'Luke, you can destroy the Emperor. He has foreseen this. It is your destiny! Join me, and together, we can rule the galaxy as father and son!'}]"
      ]
     },
     "execution_count": 162,
     "metadata": {},
     "output_type": "execute_result"
    }
   ],
   "source": [
    "res = requests.get(\"http://127.0.0.1:5000/quotesbymovie/The Empire Strikes Back\")\n",
    "res.json()[:5]"
   ]
  },
  {
   "cell_type": "markdown",
   "metadata": {},
   "source": [
    "To check what happens if we call for a wrong movie:"
   ]
  },
  {
   "cell_type": "code",
   "execution_count": 164,
   "metadata": {},
   "outputs": [
    {
     "data": {
      "text/plain": [
       "{'Error': 'The movie is still not in the database'}"
      ]
     },
     "execution_count": 164,
     "metadata": {},
     "output_type": "execute_result"
    }
   ],
   "source": [
    "res = requests.get(\"http://127.0.0.1:5000/quotesbymovie/The Lord of the Rings\")\n",
    "res.json()"
   ]
  },
  {
   "cell_type": "markdown",
   "metadata": {},
   "source": [
    "It gives an error informing that the movie is not in the DB."
   ]
  },
  {
   "cell_type": "code",
   "execution_count": null,
   "metadata": {},
   "outputs": [],
   "source": []
  }
 ],
 "metadata": {
  "kernelspec": {
   "display_name": "Python 3",
   "language": "python",
   "name": "python3"
  },
  "language_info": {
   "codemirror_mode": {
    "name": "ipython",
    "version": 3
   },
   "file_extension": ".py",
   "mimetype": "text/x-python",
   "name": "python",
   "nbconvert_exporter": "python",
   "pygments_lexer": "ipython3",
   "version": "3.8.5"
  },
  "toc": {
   "base_numbering": 1,
   "nav_menu": {},
   "number_sections": true,
   "sideBar": true,
   "skip_h1_title": false,
   "title_cell": "Table of Contents",
   "title_sidebar": "Contents",
   "toc_cell": false,
   "toc_position": {},
   "toc_section_display": true,
   "toc_window_display": false
  }
 },
 "nbformat": 4,
 "nbformat_minor": 4
}
