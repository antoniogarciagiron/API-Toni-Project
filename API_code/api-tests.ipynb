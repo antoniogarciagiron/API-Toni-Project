{
 "cells": [
  {
   "cell_type": "markdown",
   "metadata": {},
   "source": [
    "## Testing the Star Wars API"
   ]
  },
  {
   "cell_type": "code",
   "execution_count": 71,
   "metadata": {},
   "outputs": [],
   "source": [
    "from helpers.mongoConnection import insert, read\n",
    "import requests"
   ]
  },
  {
   "cell_type": "code",
   "execution_count": 140,
   "metadata": {},
   "outputs": [
    {
     "data": {
      "text/plain": [
       "'\\nwith open(\\'quotes.json\\') as f:\\n    file_data = json.load(f)\\nfor pack in file_data:\\n    res = requests.get(\"http://127.0.0.1:5000/quotes/new\", params=pack)\\n\\n'"
      ]
     },
     "execution_count": 140,
     "metadata": {},
     "output_type": "execute_result"
    }
   ],
   "source": [
    "#To import the quotes into a database in MongoDB\n",
    "\"\"\"\n",
    "with open('quotes.json') as f:\n",
    "    file_data = json.load(f)\n",
    "for pack in file_data:\n",
    "    res = requests.get(\"http://127.0.0.1:5000/quotes/new\", params=pack)\n",
    "\n",
    "\"\"\""
   ]
  },
  {
   "cell_type": "code",
   "execution_count": 52,
   "metadata": {},
   "outputs": [
    {
     "data": {
      "text/plain": [
       "'May the Force be with you'"
      ]
     },
     "execution_count": 52,
     "metadata": {},
     "output_type": "execute_result"
    }
   ],
   "source": [
    "res = requests.get(\"http://127.0.0.1:5000/salute\")\n",
    "res.text"
   ]
  },
  {
   "cell_type": "code",
   "execution_count": 124,
   "metadata": {},
   "outputs": [
    {
     "data": {
      "text/plain": [
       "<Response [200]>"
      ]
     },
     "execution_count": 124,
     "metadata": {},
     "output_type": "execute_result"
    }
   ],
   "source": [
    "sentence = {\n",
    "    \"name\":\"Boba Fett\",\n",
    "    \"army\":\"Bounty hunters\", \n",
    "    \"movie\":\"The Empire Strikes Back\",\n",
    "    \"quote\":\"He's no good to me dead\"\n",
    "}\n",
    "res = requests.get(\"http://127.0.0.1:5000/quotes/new\", params=sentence)\n",
    "res"
   ]
  },
  {
   "cell_type": "code",
   "execution_count": 93,
   "metadata": {},
   "outputs": [
    {
     "data": {
      "text/plain": [
       "{'_id': {'$oid': '603101c402da0528debb3bcd'}}"
      ]
     },
     "execution_count": 93,
     "metadata": {},
     "output_type": "execute_result"
    }
   ],
   "source": [
    "res.json()"
   ]
  },
  {
   "cell_type": "code",
   "execution_count": 55,
   "metadata": {},
   "outputs": [
    {
     "data": {
      "text/plain": [
       "'http://127.0.0.1:5000/quotes/new?name=Darth+Vader&army=Empire&movie=Return+of+the+Loonies&quote=Obi-Wan+has+taught+you+well'"
      ]
     },
     "execution_count": 55,
     "metadata": {},
     "output_type": "execute_result"
    }
   ],
   "source": [
    "res.url"
   ]
  },
  {
   "cell_type": "code",
   "execution_count": null,
   "metadata": {},
   "outputs": [],
   "source": []
  },
  {
   "cell_type": "code",
   "execution_count": 56,
   "metadata": {},
   "outputs": [
    {
     "data": {
      "text/plain": [
       "<Response [200]>"
      ]
     },
     "execution_count": 56,
     "metadata": {},
     "output_type": "execute_result"
    }
   ],
   "source": [
    "res = requests.get(\"http://127.0.0.1:5000/quotes/all\")\n",
    "res"
   ]
  },
  {
   "cell_type": "code",
   "execution_count": 57,
   "metadata": {},
   "outputs": [
    {
     "data": {
      "text/plain": [
       "[{'name': 'Princess Leia',\n",
       "  'quote': \"Aren't you a little short for a stormtrooper?\"},\n",
       " {'name': 'Obi-Wan Kenobi',\n",
       "  'quote': \"These aren't the droids you're looking for\"},\n",
       " {'name': 'Obi-Wan Kenobi',\n",
       "  'quote': \"They'll soon be back, and in greater numbers\"},\n",
       " {'name': 'Luke Skywalker', 'quote': 'Your Thoughts betray you father'},\n",
       " {'name': 'Darth Vader', 'quote': 'Obi-Wan has taught you well'}]"
      ]
     },
     "execution_count": 57,
     "metadata": {},
     "output_type": "execute_result"
    }
   ],
   "source": [
    "data = res.json()\n",
    "data"
   ]
  },
  {
   "cell_type": "code",
   "execution_count": 63,
   "metadata": {},
   "outputs": [],
   "source": [
    "res = requests.get(\"http://127.0.0.1:5000/quotesbyarmy/Rebellion\")"
   ]
  },
  {
   "cell_type": "code",
   "execution_count": 64,
   "metadata": {},
   "outputs": [
    {
     "data": {
      "text/plain": [
       "[{'name': 'Princess Leia',\n",
       "  'quote': \"Aren't you a little short for a stormtrooper?\"},\n",
       " {'name': 'Obi-Wan Kenobi',\n",
       "  'quote': \"These aren't the droids you're looking for\"},\n",
       " {'name': 'Obi-Wan Kenobi',\n",
       "  'quote': \"They'll soon be back, and in greater numbers\"},\n",
       " {'name': 'Luke Skywalker', 'quote': 'Your Thoughts betray you father'}]"
      ]
     },
     "execution_count": 64,
     "metadata": {},
     "output_type": "execute_result"
    }
   ],
   "source": [
    "res.json()"
   ]
  },
  {
   "cell_type": "code",
   "execution_count": 65,
   "metadata": {},
   "outputs": [
    {
     "data": {
      "text/plain": [
       "[{'name': 'Princess Leia',\n",
       "  'quote': \"Aren't you a little short for a stormtrooper?\"}]"
      ]
     },
     "execution_count": 65,
     "metadata": {},
     "output_type": "execute_result"
    }
   ],
   "source": [
    "res = requests.get(\"http://127.0.0.1:5000/quotesbycharacter/Princess Leia\")\n",
    "res.json()"
   ]
  },
  {
   "cell_type": "code",
   "execution_count": 68,
   "metadata": {},
   "outputs": [
    {
     "data": {
      "text/plain": [
       "{'Error': 'The character is still not in the Database'}"
      ]
     },
     "execution_count": 68,
     "metadata": {},
     "output_type": "execute_result"
    }
   ],
   "source": [
    "res = requests.get(\"http://127.0.0.1:5000/quotesbycharacter/Manolo\")\n",
    "res.json()"
   ]
  },
  {
   "cell_type": "code",
   "execution_count": 70,
   "metadata": {},
   "outputs": [
    {
     "data": {
      "text/plain": [
       "[{'name': 'Princess Leia',\n",
       "  'quote': \"Aren't you a little short for a stormtrooper?\"},\n",
       " {'name': 'Obi-Wan Kenobi',\n",
       "  'quote': \"These aren't the droids you're looking for\"},\n",
       " {'name': 'Obi-Wan Kenobi',\n",
       "  'quote': \"They'll soon be back, and in greater numbers\"}]"
      ]
     },
     "execution_count": 70,
     "metadata": {},
     "output_type": "execute_result"
    }
   ],
   "source": [
    "res = requests.get(\"http://127.0.0.1:5000/quotesbymovie/A New Hope\")\n",
    "res.json()"
   ]
  },
  {
   "cell_type": "code",
   "execution_count": null,
   "metadata": {},
   "outputs": [],
   "source": []
  },
  {
   "cell_type": "code",
   "execution_count": null,
   "metadata": {},
   "outputs": [],
   "source": []
  },
  {
   "cell_type": "code",
   "execution_count": null,
   "metadata": {},
   "outputs": [],
   "source": []
  },
  {
   "cell_type": "code",
   "execution_count": null,
   "metadata": {},
   "outputs": [],
   "source": []
  },
  {
   "cell_type": "code",
   "execution_count": null,
   "metadata": {},
   "outputs": [],
   "source": []
  },
  {
   "cell_type": "code",
   "execution_count": null,
   "metadata": {},
   "outputs": [],
   "source": []
  }
 ],
 "metadata": {
  "kernelspec": {
   "display_name": "Python 3",
   "language": "python",
   "name": "python3"
  },
  "language_info": {
   "codemirror_mode": {
    "name": "ipython",
    "version": 3
   },
   "file_extension": ".py",
   "mimetype": "text/x-python",
   "name": "python",
   "nbconvert_exporter": "python",
   "pygments_lexer": "ipython3",
   "version": "3.8.5"
  },
  "toc": {
   "base_numbering": 1,
   "nav_menu": {},
   "number_sections": true,
   "sideBar": true,
   "skip_h1_title": false,
   "title_cell": "Table of Contents",
   "title_sidebar": "Contents",
   "toc_cell": false,
   "toc_position": {},
   "toc_section_display": true,
   "toc_window_display": false
  }
 },
 "nbformat": 4,
 "nbformat_minor": 4
}
